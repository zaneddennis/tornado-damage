{
 "cells": [
  {
   "cell_type": "code",
   "execution_count": 1,
   "metadata": {},
   "outputs": [],
   "source": [
    "#Package import cell\n",
    "\n",
    "import pandas as pd\n",
    "import numpy as np"
   ]
  },
  {
   "cell_type": "code",
   "execution_count": 51,
   "metadata": {},
   "outputs": [],
   "source": [
    "#Pull all storm events (2008-2018)\n",
    "#Source URL: https://www1.ncdc.noaa.gov/pub/data/swdi/stormevents/csvfiles/\n",
    "\n",
    "storms = pd.DataFrame()\n",
    "years = ['2009_c20180718', '2010_c20170726', '2011_c20180718', '2012_c20170519', \n",
    "         '2013_c20170519', '2014_c20180718', '2015_c20180525', '2016_c20180718',\n",
    "         '2017_c20181017', '2018_c20181017']\n",
    "\n",
    "for year in years:\n",
    "    storms = storms.append(pd.read_csv('/users/Orion/Downloads/StormEvents_details-ftp_v1.0_d'\n",
    "                                       +str(year)+'.csv.gz'))"
   ]
  },
  {
   "cell_type": "code",
   "execution_count": 78,
   "metadata": {},
   "outputs": [
    {
     "data": {
      "text/plain": [
       "array(['TEXAS', 'OREGON', 'KENTUCKY', 'LOUISIANA', 'VIRGINIA', 'GEORGIA',\n",
       "       'ALABAMA', 'MISSOURI', 'ILLINOIS', 'FLORIDA', 'NORTH CAROLINA',\n",
       "       'TENNESSEE', 'MISSISSIPPI', 'INDIANA', 'KANSAS', 'OKLAHOMA',\n",
       "       'COLORADO', 'IDAHO', 'NEBRASKA', 'SOUTH CAROLINA', 'VERMONT',\n",
       "       'ARKANSAS', 'IOWA', 'MARYLAND', 'NEW YORK', 'OHIO', 'NORTH DAKOTA',\n",
       "       'HAWAII', 'SOUTH DAKOTA', 'WYOMING', 'MINNESOTA', 'ARIZONA',\n",
       "       'MAINE', 'MICHIGAN', 'UTAH', 'CALIFORNIA', 'PENNSYLVANIA',\n",
       "       'WISCONSIN', 'NEW MEXICO', 'WASHINGTON', 'CONNECTICUT', 'MONTANA',\n",
       "       'NEVADA', 'NEW JERSEY', 'PUERTO RICO', 'WEST VIRGINIA',\n",
       "       'NEW HAMPSHIRE', 'DELAWARE', 'MASSACHUSETTS', 'RHODE ISLAND',\n",
       "       'DISTRICT OF COLUMBIA'], dtype=object)"
      ]
     },
     "execution_count": 78,
     "metadata": {},
     "output_type": "execute_result"
    }
   ],
   "source": [
    "#Filter out non-tornado events\n",
    "\n",
    "tornadoes = storms.loc[storms['EVENT_TYPE'] == 'Tornado']\n",
    "\n",
    "#Check states where tornadoes have occurred (to help in additional data mining)\n",
    "\n",
    "tornadoes['STATE'].unique()"
   ]
  },
  {
   "cell_type": "code",
   "execution_count": null,
   "metadata": {},
   "outputs": [],
   "source": []
  },
  {
   "cell_type": "code",
   "execution_count": null,
   "metadata": {},
   "outputs": [],
   "source": []
  }
 ],
 "metadata": {
  "kernelspec": {
   "display_name": "Python 3",
   "language": "python",
   "name": "python3"
  },
  "language_info": {
   "codemirror_mode": {
    "name": "ipython",
    "version": 3
   },
   "file_extension": ".py",
   "mimetype": "text/x-python",
   "name": "python",
   "nbconvert_exporter": "python",
   "pygments_lexer": "ipython3",
   "version": "3.6.5"
  }
 },
 "nbformat": 4,
 "nbformat_minor": 2
}
