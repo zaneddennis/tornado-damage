{
 "cells": [
  {
   "cell_type": "code",
   "execution_count": 1,
   "metadata": {},
   "outputs": [],
   "source": [
    "# Package import cell\n",
    "\n",
    "import pandas as pd\n",
    "import numpy as np\n",
    "import sklearn\n",
    "from sklearn.model_selection import train_test_split"
   ]
  },
  {
   "cell_type": "code",
   "execution_count": 2,
   "metadata": {},
   "outputs": [
    {
     "data": {
      "text/plain": [
       "Index(['Unnamed: 0', 'BEGIN_YEARMONTH', 'BEGIN_DAY', 'BEGIN_TIME',\n",
       "       'END_YEARMONTH', 'END_DAY', 'END_TIME', 'EPISODE_ID', 'EVENT_ID',\n",
       "       'STATE', 'STATE_FIPS', 'YEAR', 'MONTH_NAME', 'EVENT_TYPE', 'CZ_TYPE',\n",
       "       'CZ_FIPS', 'CZ_NAME', 'WFO', 'BEGIN_DATE_TIME', 'CZ_TIMEZONE',\n",
       "       'END_DATE_TIME', 'INJURIES_DIRECT', 'INJURIES_INDIRECT',\n",
       "       'DEATHS_DIRECT', 'DEATHS_INDIRECT', 'DAMAGE_PROPERTY', 'DAMAGE_CROPS',\n",
       "       'SOURCE', 'MAGNITUDE', 'MAGNITUDE_TYPE', 'FLOOD_CAUSE', 'CATEGORY',\n",
       "       'TOR_F_SCALE', 'TOR_LENGTH', 'TOR_WIDTH', 'TOR_OTHER_WFO',\n",
       "       'TOR_OTHER_CZ_STATE', 'TOR_OTHER_CZ_FIPS', 'TOR_OTHER_CZ_NAME',\n",
       "       'BEGIN_RANGE', 'BEGIN_AZIMUTH', 'BEGIN_LOCATION', 'END_RANGE',\n",
       "       'END_AZIMUTH', 'END_LOCATION', 'BEGIN_LAT', 'BEGIN_LON', 'END_LAT',\n",
       "       'END_LON', 'EPISODE_NARRATIVE', 'EVENT_NARRATIVE', 'DATA_SOURCE',\n",
       "       'State FIPS Code', 'County FIPS Code', 'Postal Code', 'Name',\n",
       "       'Poverty Estimate, All Ages', '90% CI Lower Bound',\n",
       "       '90% CI Upper Bound', 'Poverty Percent, All Ages',\n",
       "       '90% CI Lower Bound.1', '90% CI Upper Bound.1',\n",
       "       'Poverty Estimate, Age 0-17', '90% CI Lower Bound.2',\n",
       "       '90% CI Upper Bound.2', 'Poverty Percent, Age 0-17',\n",
       "       '90% CI Lower Bound.3', '90% CI Upper Bound.3',\n",
       "       'Poverty Estimate, Age 5-17 in Families', '90% CI Lower Bound.4',\n",
       "       '90% CI Upper Bound.4', 'Poverty Percent, Age 5-17 in Families',\n",
       "       '90% CI Lower Bound.5', '90% CI Upper Bound.5',\n",
       "       'Median Household Income', '90% CI Lower Bound.6',\n",
       "       '90% CI Upper Bound.6', 'Poverty Estimate, Age 0-4',\n",
       "       '90% CI Lower Bound.7', '90% CI Upper Bound.7',\n",
       "       'Poverty Percent, Age 0-4', '90% CI Lower Bound.8',\n",
       "       '90% CI Upper Bound.8', 'Id', 'Id2', 'Geography', 'Target Geo Id',\n",
       "       'Target Geo Id2', 'Geographic area', 'Geographic area.1', 'Population',\n",
       "       'Housing units', 'Area in square miles - Total area',\n",
       "       'Area in square miles - Water area', 'Area in square miles - Land area',\n",
       "       'Density per square mile of land area - Population',\n",
       "       'Density per square mile of land area - Housing units'],\n",
       "      dtype='object')"
      ]
     },
     "execution_count": 2,
     "metadata": {},
     "output_type": "execute_result"
    }
   ],
   "source": [
    "# Load merged tornadoes+income+density data and view all columns\n",
    "\n",
    "pd.set_option('display.max_columns', None)\n",
    "data = pd.read_csv('Merged-Tornadoes.csv')\n",
    "data.columns"
   ]
  },
  {
   "cell_type": "code",
   "execution_count": 3,
   "metadata": {},
   "outputs": [],
   "source": [
    "# Create a single unique 'STATE: COUNTY' column and trim redundant geographic columns\n",
    "\n",
    "data['STATE: COUNTY'] = data['STATE'].map(str)+': '+data['CZ_NAME']\n",
    "\n",
    "data = data.drop(columns=['STATE', 'STATE_FIPS', 'CZ_FIPS', 'CZ_NAME',\n",
    "                        'State FIPS Code', 'County FIPS Code','Postal Code', 'Name', \n",
    "                        'Geography', 'Geographic area', 'Geographic area.1'])"
   ]
  },
  {
   "cell_type": "code",
   "execution_count": 4,
   "metadata": {},
   "outputs": [],
   "source": [
    "# Remove other unuseful columns (e.g., 'EVENT TYPE' is now only Tornado)\n",
    "\n",
    "data = data.drop(columns=['Unnamed: 0', 'EVENT_TYPE', 'MAGNITUDE', \n",
    "                   'MAGNITUDE_TYPE', 'FLOOD_CAUSE', 'CATEGORY', 'Id', 'Id2'])"
   ]
  },
  {
   "cell_type": "code",
   "execution_count": 5,
   "metadata": {},
   "outputs": [
    {
     "data": {
      "text/plain": [
       "Index(['BEGIN_YEARMONTH', 'BEGIN_DAY', 'BEGIN_TIME', 'END_YEARMONTH',\n",
       "       'END_DAY', 'END_TIME', 'EPISODE_ID', 'EVENT_ID', 'YEAR', 'MONTH_NAME',\n",
       "       'CZ_TYPE', 'WFO', 'BEGIN_DATE_TIME', 'CZ_TIMEZONE', 'END_DATE_TIME',\n",
       "       'INJURIES_DIRECT', 'INJURIES_INDIRECT', 'DEATHS_DIRECT',\n",
       "       'DEATHS_INDIRECT', 'DAMAGE_PROPERTY', 'DAMAGE_CROPS', 'SOURCE',\n",
       "       'TOR_F_SCALE', 'TOR_LENGTH', 'TOR_WIDTH', 'TOR_OTHER_WFO',\n",
       "       'TOR_OTHER_CZ_STATE', 'TOR_OTHER_CZ_FIPS', 'TOR_OTHER_CZ_NAME',\n",
       "       'BEGIN_RANGE', 'BEGIN_AZIMUTH', 'BEGIN_LOCATION', 'END_RANGE',\n",
       "       'END_AZIMUTH', 'END_LOCATION', 'BEGIN_LAT', 'BEGIN_LON', 'END_LAT',\n",
       "       'END_LON', 'EPISODE_NARRATIVE', 'EVENT_NARRATIVE', 'DATA_SOURCE',\n",
       "       'Poverty Estimate, All Ages', '90% CI Lower Bound',\n",
       "       '90% CI Upper Bound', 'Poverty Percent, All Ages',\n",
       "       '90% CI Lower Bound.1', '90% CI Upper Bound.1',\n",
       "       'Poverty Estimate, Age 0-17', '90% CI Lower Bound.2',\n",
       "       '90% CI Upper Bound.2', 'Poverty Percent, Age 0-17',\n",
       "       '90% CI Lower Bound.3', '90% CI Upper Bound.3',\n",
       "       'Poverty Estimate, Age 5-17 in Families', '90% CI Lower Bound.4',\n",
       "       '90% CI Upper Bound.4', 'Poverty Percent, Age 5-17 in Families',\n",
       "       '90% CI Lower Bound.5', '90% CI Upper Bound.5',\n",
       "       'Median Household Income', '90% CI Lower Bound.6',\n",
       "       '90% CI Upper Bound.6', 'Poverty Estimate, Age 0-4',\n",
       "       '90% CI Lower Bound.7', '90% CI Upper Bound.7',\n",
       "       'Poverty Percent, Age 0-4', '90% CI Lower Bound.8',\n",
       "       '90% CI Upper Bound.8', 'Target Geo Id', 'Target Geo Id2', 'Population',\n",
       "       'Housing units', 'Area in square miles - Total area',\n",
       "       'Area in square miles - Water area', 'Area in square miles - Land area',\n",
       "       'Density per square mile of land area - Population',\n",
       "       'Density per square mile of land area - Housing units',\n",
       "       'STATE: COUNTY'],\n",
       "      dtype='object')"
      ]
     },
     "execution_count": 5,
     "metadata": {},
     "output_type": "execute_result"
    }
   ],
   "source": [
    "data.columns"
   ]
  },
  {
   "cell_type": "code",
   "execution_count": null,
   "metadata": {},
   "outputs": [],
   "source": []
  }
 ],
 "metadata": {
  "kernelspec": {
   "display_name": "Python 3",
   "language": "python",
   "name": "python3"
  },
  "language_info": {
   "codemirror_mode": {
    "name": "ipython",
    "version": 3
   },
   "file_extension": ".py",
   "mimetype": "text/x-python",
   "name": "python",
   "nbconvert_exporter": "python",
   "pygments_lexer": "ipython3",
   "version": "3.6.5"
  }
 },
 "nbformat": 4,
 "nbformat_minor": 2
}
