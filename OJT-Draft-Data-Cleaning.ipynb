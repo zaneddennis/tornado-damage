{
 "cells": [
  {
   "cell_type": "code",
   "execution_count": 9,
   "metadata": {},
   "outputs": [],
   "source": [
    "# Package import cell\n",
    "\n",
    "import pandas as pd\n",
    "import numpy as np\n",
    "import sklearn\n",
    "from sklearn.model_selection import train_test_split"
   ]
  },
  {
   "cell_type": "code",
   "execution_count": 10,
   "metadata": {},
   "outputs": [
    {
     "data": {
      "text/plain": [
       "Index(['Unnamed: 0', 'BEGIN_YEARMONTH', 'BEGIN_DAY', 'BEGIN_TIME',\n",
       "       'END_YEARMONTH', 'END_DAY', 'END_TIME', 'EPISODE_ID', 'EVENT_ID',\n",
       "       'STATE', 'STATE_FIPS', 'YEAR', 'MONTH_NAME', 'EVENT_TYPE', 'CZ_TYPE',\n",
       "       'CZ_FIPS', 'CZ_NAME', 'WFO', 'BEGIN_DATE_TIME', 'CZ_TIMEZONE',\n",
       "       'END_DATE_TIME', 'INJURIES_DIRECT', 'INJURIES_INDIRECT',\n",
       "       'DEATHS_DIRECT', 'DEATHS_INDIRECT', 'DAMAGE_PROPERTY', 'DAMAGE_CROPS',\n",
       "       'SOURCE', 'MAGNITUDE', 'MAGNITUDE_TYPE', 'FLOOD_CAUSE', 'CATEGORY',\n",
       "       'TOR_F_SCALE', 'TOR_LENGTH', 'TOR_WIDTH', 'TOR_OTHER_WFO',\n",
       "       'TOR_OTHER_CZ_STATE', 'TOR_OTHER_CZ_FIPS', 'TOR_OTHER_CZ_NAME',\n",
       "       'BEGIN_RANGE', 'BEGIN_AZIMUTH', 'BEGIN_LOCATION', 'END_RANGE',\n",
       "       'END_AZIMUTH', 'END_LOCATION', 'BEGIN_LAT', 'BEGIN_LON', 'END_LAT',\n",
       "       'END_LON', 'EPISODE_NARRATIVE', 'EVENT_NARRATIVE', 'DATA_SOURCE',\n",
       "       'State FIPS Code', 'Name', 'Median Household Income', 'Geographic area',\n",
       "       'Geographic area.1',\n",
       "       'Density per square mile of land area - Population',\n",
       "       'Density per square mile of land area - Housing units'],\n",
       "      dtype='object')"
      ]
     },
     "execution_count": 10,
     "metadata": {},
     "output_type": "execute_result"
    }
   ],
   "source": [
    "# Load merged tornadoes+income+density data and view all columns\n",
    "\n",
    "pd.set_option('display.max_columns', None)\n",
    "data = pd.read_csv('Merged-Tornadoes.csv')\n",
    "data.columns"
   ]
  },
  {
   "cell_type": "code",
   "execution_count": 11,
   "metadata": {},
   "outputs": [],
   "source": [
    "# Create a single unique 'STATE: COUNTY' column and trim redundant geographic columns\n",
    "\n",
    "data['STATE: COUNTY'] = data['STATE'].map(str)+': '+data['CZ_NAME']\n",
    "\n",
    "data = data.drop(columns=['STATE', 'STATE_FIPS', 'CZ_FIPS', 'CZ_NAME',\n",
    "                          'State FIPS Code', 'Name', 'Geographic area', 'Geographic area.1'])"
   ]
  },
  {
   "cell_type": "code",
   "execution_count": 12,
   "metadata": {
    "scrolled": true
   },
   "outputs": [],
   "source": [
    "# Convert all injury- and death-related columns to numeric\n",
    "\n",
    "data['INJURIES_DIRECT'] = pd.to_numeric(data['INJURIES_DIRECT'])\n",
    "data['INJURIES_INDIRECT'] = pd.to_numeric(data['INJURIES_INDIRECT'])\n",
    "data['DEATHS_DIRECT'] = pd.to_numeric(data['DEATHS_DIRECT'])\n",
    "data['DEATHS_INDIRECT'] = pd.to_numeric(data['DEATHS_INDIRECT'])\n",
    "\n",
    "# Derive a 'CASUALTIES' column by summing \n",
    "# 'INJURIES_DIRECT', 'INJURIES_INDIRECT' 'DEATHS_DIRECT' and 'DEATHS_INDIRECT', and\n",
    "# drop these columns\n",
    "\n",
    "data[\"CASUALTIES\"] = (data[\"INJURIES_INDIRECT\"]+data[\"INJURIES_DIRECT\"]+\n",
    "                      data[\"DEATHS_DIRECT\"]+data[\"DEATHS_INDIRECT\"])\n",
    "\n",
    "data = data.drop(columns=[\"INJURIES_INDIRECT\", \"INJURIES_DIRECT\", \n",
    "                          \"DEATHS_INDIRECT\", \"DEATHS_DIRECT\"])"
   ]
  },
  {
   "cell_type": "code",
   "execution_count": 13,
   "metadata": {
    "scrolled": true
   },
   "outputs": [],
   "source": [
    "# Remove other unuseful columns (e.g., 'EVENT TYPE' is now only Tornado)\n",
    "\n",
    "data = data.drop(columns=['Unnamed: 0', 'BEGIN_YEARMONTH', 'END_YEARMONTH', 'END_DAY', 'END_TIME', \n",
    "                          'EVENT_TYPE', 'CZ_TYPE', 'WFO', 'BEGIN_DATE_TIME', 'CZ_TIMEZONE', \n",
    "                          'END_DATE_TIME', 'MAGNITUDE', 'MAGNITUDE_TYPE', 'FLOOD_CAUSE', 'CATEGORY', \n",
    "                          'TOR_OTHER_WFO', 'TOR_OTHER_CZ_STATE', 'TOR_OTHER_CZ_FIPS',\n",
    "                          'TOR_OTHER_CZ_NAME', 'DATA_SOURCE',])"
   ]
  },
  {
   "cell_type": "code",
   "execution_count": 14,
   "metadata": {},
   "outputs": [],
   "source": [
    "# NOTES: NEED TO CHECK ON DATA LEAKAGE CONCERN FROM 'TOR_F_SCALE', 'EPISODE_NARRATIVE', 'EVENT_NARRATIVE'"
   ]
  },
  {
   "cell_type": "code",
   "execution_count": 15,
   "metadata": {},
   "outputs": [],
   "source": [
    "data.to_csv('Cleaned-Tornadoes.csv')"
   ]
  }
 ],
 "metadata": {
  "kernelspec": {
   "display_name": "Python 3",
   "language": "python",
   "name": "python3"
  },
  "language_info": {
   "codemirror_mode": {
    "name": "ipython",
    "version": 3
   },
   "file_extension": ".py",
   "mimetype": "text/x-python",
   "name": "python",
   "nbconvert_exporter": "python",
   "pygments_lexer": "ipython3",
   "version": "3.6.5"
  }
 },
 "nbformat": 4,
 "nbformat_minor": 2
}
